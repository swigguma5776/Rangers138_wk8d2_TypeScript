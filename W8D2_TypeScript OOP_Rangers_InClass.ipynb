{
 "cells": [
  {
   "cell_type": "markdown",
   "id": "7e8093d5-f4e7-41c8-92aa-45cfa711e0f8",
   "metadata": {},
   "source": [
    "# Week 8 Day 2 - TypeScript OOP"
   ]
  },
  {
   "cell_type": "markdown",
   "id": "1644759d",
   "metadata": {},
   "source": [
    "[Object Oriented Programming](#oop)<br>\n",
    "&emsp;[Classes](#classes)<br>\n",
    "&emsp;&emsp;[Read Only Properties](#rop)<br>\n",
    "&emsp;&emsp;[Optional Properties](#op)<br>\n",
    "&emsp;&emsp;[Access Modifiers](#access)<br>\n",
    "&emsp;&emsp;[Declaring Properties in Constructor](#conprop)<br>\n",
    "&emsp;&emsp;[Getters](#getter)<br>\n",
    "&emsp;&emsp;[Setters](#setter)<br>\n",
    "&emsp;&emsp;[Index Signatures](#idxsign)<br>\n",
    "&emsp;&emsp;[Static](#static)<br>\n",
    "&emsp;[Inheritance](#inherit)<br>\n",
    "&emsp;&emsp;[Method Overrides](#methover)<br>\n",
    "&emsp;&emsp;[Override Keyword](#overrride)<br>\n",
    "&emsp;&emsp;[Polymorphism](#polym)<br>\n",
    "&emsp;[Design Patterns](#dp)<br>\n",
    "&emsp;[Abstract Classes](#abs)<br>\n",
    "&emsp;&emsp;[Flying Ducks](#fly)<br>\n",
    "&emsp;&emsp;[Decoy Ducks](#decoy)<br>\n",
    "&emsp;&emsp;[Exercise #1](#ice1)<br>\n",
    "&emsp;[Interfaces](#interfaces)<br>\n",
    "&emsp;&emsp;[Exercise #2](#ice2)<br>\n",
    "&emsp;&emsp;[Rubber Duck / Final Pattern](#rubber)<br>\n",
    "&emsp;&emsp;[More On Polymorphism](#mpoly)<br>\n",
    "&emsp;&emsp;[Programming to Interface](#ptoi)<br>\n",
    "&emsp;&emsp;[Extending Interfaces](#xi)<br>\n",
    "[Generics](#gen)<br>\n",
    "&emsp;[Generic Functions](#gf)<br>\n",
    "&emsp;[Generic Classes](#gc)<br>\n",
    "&emsp;[Multiple Generics](#mg)<br>\n",
    "&emsp;[Generic Interfaces](#gi)<br>\n",
    "&emsp;[Generic Constraints](#gcon)<br>\n",
    "&emsp;[keyof](#keyof)<br>\n",
    "&emsp;[Type Mapping](#typemap)<br>\n",
    "&emsp;[Optional&lt;T&gt;](#optgen)<br>\n",
    "&emsp;[Read Only&lt;T&gt;](#rogen)<br>\n",
    "&emsp;[Built In Utility Classes](#util)<br>\n",
    "[Homework](#hw)<br>\n",
    "\n",
    "\n",
    "\n",
    "\n",
    "\n",
    "\n",
    "\n",
    "\n",
    "\n",
    "\n",
    "\n",
    "\n"
   ]
  },
  {
   "cell_type": "markdown",
   "id": "910c27b6",
   "metadata": {},
   "source": [
    "<a id=\"oop\"></a>\n",
    "# Object Oriented Programming"
   ]
  },
  {
   "cell_type": "markdown",
   "id": "fa6b48ea",
   "metadata": {},
   "source": [
    "Object-oriented programming (OOP) is a programming paradigm that focuses on the organization and manipulation of data as objects, rather than simply processing logic or functions. Good OOP practices involve designing reusable and extensible code by creating classes, interfaces, and abstract classes.\n",
    "\n",
    "While some programming languages like Java are purely OOP, others like Typescript combine OOP principles with scripting capabilities. In OOP, a model is designed to represent a real-life entity, and then that model is used to create different but similar objects. For example, a Car can be considered a model that defines the properties and behaviors of a generic car, and a specific car like a Ford Ranger can be an instance of that model that behaves like all other cars but may have its own unique characteristics."
   ]
  },
  {
   "cell_type": "markdown",
   "id": "becd1b0e",
   "metadata": {},
   "source": [
    "<a id=\"classes\"></a>\n",
    "\n",
    "## Classes"
   ]
  },
  {
   "cell_type": "markdown",
   "id": "1d92e4d7",
   "metadata": {},
   "source": [
    "To define the types of your properties, you write them at the top of the class and then using the `this` keyword you can assign them in the constructor"
   ]
  },
  {
   "cell_type": "code",
   "execution_count": 2,
   "id": "f5ee7e3a",
   "metadata": {},
   "outputs": [],
   "source": [
    "class Car {\n",
    "    //define out types and their properties\n",
    "    make: string //attributes and data types\n",
    "    model: string\n",
    "    year: number\n",
    "    \n",
    "    //the constructor to JS/TS is init to Python\n",
    "    constructor(make: string, model: string, year: number){\n",
    "        //assign the properties to its specific object\n",
    "        this.make = make //this keyword to JS/TS is self to Python\n",
    "        this.model = model\n",
    "        this.year = year\n",
    "    }\n",
    "    \n",
    "//     defining behaviors/methods\n",
    "    drive(miles: number):void {\n",
    "        console.log(`You drove ${miles} miles! Nice job!`)\n",
    "    }\n",
    "\n",
    "}\n",
    "    \n",
    "//instantiate an object from the Car class\n",
    "let suburu = new Car('suburu', 'forrester', 2024)"
   ]
  },
  {
   "cell_type": "code",
   "execution_count": 3,
   "id": "c21d23f4",
   "metadata": {},
   "outputs": [
    {
     "name": "stdout",
     "output_type": "stream",
     "text": [
      "You drove 20 miles! Nice job!\n"
     ]
    }
   ],
   "source": [
    "suburu.drive(20)"
   ]
  },
  {
   "cell_type": "markdown",
   "id": "98568e5d",
   "metadata": {},
   "source": [
    "<a id=\"rop\"></a>\n",
    "\n",
    "### Read Only Properties"
   ]
  },
  {
   "cell_type": "markdown",
   "id": "7759c095",
   "metadata": {},
   "source": [
    "Since IDs should never change lets make a readonly ID on our Car Class"
   ]
  },
  {
   "cell_type": "code",
   "execution_count": 6,
   "id": "d39d6a03",
   "metadata": {},
   "outputs": [],
   "source": [
    "class Car {\n",
    "\n",
    "    readonly id: number\n",
    "    make: string\n",
    "    model: string\n",
    "    year: number\n",
    "    \n",
    "    constructor(id: number, make: string, model:string, year:number){\n",
    "        this.id = id\n",
    "        this.make = make\n",
    "        this.model = model\n",
    "        this.year = year\n",
    "    }\n",
    "    \n",
    "    //     defining behaviors/methods\n",
    "    drive(miles: number):void {\n",
    "        console.log(`You drove ${miles} miles! Nice job!`)\n",
    "    }\n",
    "\n",
    "}\n",
    "\n",
    "let ferrari = new Car(1, 'ferrari', 'purosangue', 2024)"
   ]
  },
  {
   "cell_type": "code",
   "execution_count": 7,
   "id": "c8ad3704",
   "metadata": {},
   "outputs": [
    {
     "name": "stderr",
     "output_type": "stream",
     "text": [
      "1:9 - Cannot assign to 'id' because it is a read-only property.\n"
     ]
    }
   ],
   "source": [
    "ferrari.id = 2"
   ]
  },
  {
   "cell_type": "markdown",
   "id": "bf661f70",
   "metadata": {},
   "source": [
    "<a id=\"op\"></a>\n",
    "\n",
    "### Optional Properties"
   ]
  },
  {
   "cell_type": "markdown",
   "id": "e22c270c",
   "metadata": {},
   "source": [
    "Lets give the car have an optional nickname like Kitt, or Herbie.  Not every car will have such a cool nickname"
   ]
  },
  {
   "cell_type": "code",
   "execution_count": 8,
   "id": "dc729b95",
   "metadata": {},
   "outputs": [],
   "source": [
    "class Car {\n",
    "\n",
    "    readonly id: number\n",
    "    make: string\n",
    "    model: string\n",
    "    year: number\n",
    "    nickname?: string\n",
    "    \n",
    "    constructor(id: number, make: string, model:string, year:number, nickname?: string){\n",
    "        this.id = id\n",
    "        this.make = make\n",
    "        this.model = model\n",
    "        this.year = year\n",
    "        this.nickname = nickname\n",
    "    }\n",
    "    \n",
    "    //     defining behaviors/methods\n",
    "    drive(miles: number):void {\n",
    "        console.log(`You drove ${miles} miles! Nice job!`)\n",
    "    }\n",
    "\n",
    "}\n",
    "\n",
    "let tesla = new Car(2, 'Tesla', 'CyberTruck', 2024)"
   ]
  },
  {
   "cell_type": "code",
   "execution_count": 9,
   "id": "eddfdaa8",
   "metadata": {},
   "outputs": [
    {
     "name": "stdout",
     "output_type": "stream",
     "text": [
      "Dope Truck\n"
     ]
    }
   ],
   "source": [
    "tesla.nickname = 'Dope Truck'"
   ]
  },
  {
   "cell_type": "markdown",
   "id": "ec97d010",
   "metadata": {},
   "source": [
    "<a id=\"access\"></a>\n",
    "\n",
    "### Access Control keywords"
   ]
  },
  {
   "cell_type": "markdown",
   "id": "17233b3a",
   "metadata": {},
   "source": [
    "Access Control keywords are used in many languages, and TypeScript uses the most common three `public`, `protected`, `private`.  These access modifiers tell the computer what can access and modify the property/method.\n",
    "\n",
    "`public` -- this property is available  anywhere.  If no access modifier is used, the property defaults to public\n",
    "\n",
    "`protected` -- this property can be used within the class and within the derived classes, but not from outside the class\n",
    "\n",
    "`private`  -- this property can only be used from within the class that declared it.\n",
    "\n",
    "These access modifiers are the key to a concept known and <b>encapsulation</b>. This is basically the idea of data hiding to prevent properties from being modified or used by people/programs that it shouldn't be used by, or to control the modifications of these properties."
   ]
  },
  {
   "cell_type": "markdown",
   "id": "45a2174f",
   "metadata": {},
   "source": [
    "<b>Now</b> Lets assign some private and public access modifiers"
   ]
  },
  {
   "cell_type": "code",
   "execution_count": 12,
   "id": "52683d48",
   "metadata": {},
   "outputs": [
    {
     "name": "stdout",
     "output_type": "stream",
     "text": [
      "The car id is 3 & it is a \u001b[33m1981\u001b[39m DeLorean DMC-12 that has no nickname :( sorry\n",
      "The car id is 3 & it is a \u001b[33m1981\u001b[39m DeLorean DMC-12 that is called Back to the future car\n"
     ]
    }
   ],
   "source": [
    "class Car {\n",
    "\n",
    "    private readonly id: number //we don't want ppl to access our id and/or modifiy it outside this class\n",
    "    public make: string // '__' denoted private variable in python vs 'private' word in JS/TSS\n",
    "    public model: string\n",
    "    public year: number\n",
    "    public nickname?: string\n",
    "    \n",
    "    constructor(id: number, make: string, model:string, year:number, nickname?: string){\n",
    "        this.id = id\n",
    "        this.make = make\n",
    "        this.model = model\n",
    "        this.year = year\n",
    "        this.nickname = nickname\n",
    "    }\n",
    "    \n",
    "    //     defining behaviors/methods\n",
    "    drive(miles: number):void {\n",
    "        console.log(`You drove ${miles} miles! Nice job!`)\n",
    "    }\n",
    "    \n",
    "    printInfo():void {\n",
    "        console.log(`The car id is ${this.id} & it is a`,\n",
    "                            this.year,\n",
    "                            this.make,\n",
    "                            this.model,\n",
    "                            this.nickname ? 'that is called ' + this.nickname : 'that has no nickname :( sorry')\n",
    "                            \n",
    "    \n",
    "    }\n",
    "\n",
    "}\n",
    "\n",
    "\n",
    "let delorean = new Car(3, 'DeLorean', 'DMC-12', 1981)\n",
    "\n",
    "delorean.printInfo()\n",
    "delorean.nickname = 'Back to the future car'\n",
    "delorean.printInfo()"
   ]
  },
  {
   "cell_type": "markdown",
   "id": "2af88485",
   "metadata": {},
   "source": [
    "Private variables cannot be access outside of the class"
   ]
  },
  {
   "cell_type": "code",
   "execution_count": 13,
   "id": "e35ddf06",
   "metadata": {
    "scrolled": true
   },
   "outputs": [
    {
     "name": "stderr",
     "output_type": "stream",
     "text": [
      "1:10 - Property 'id' is private and only accessible within class 'Car'.\n"
     ]
    }
   ],
   "source": [
    "delorean.id"
   ]
  },
  {
   "cell_type": "markdown",
   "id": "67b02032",
   "metadata": {},
   "source": [
    "<a id=\"conprop\"></a>\n",
    "\n",
    "### Declaring Properties in the Constructor"
   ]
  },
  {
   "cell_type": "markdown",
   "id": "4d8eb6d8",
   "metadata": {},
   "source": [
    "When passing values to our constructor we can give the parameters an access modifier and no longer declare them at the top of the document.  Optional properties will still need to be declared at the top.\n",
    "\n",
    "<b>Note: </b> Like in Python we will name our private properties with an underscore.  This is an older convention and many may argue it is not applicable anymore, often it's replaced with a `$` at the beginning of the variable name, or some custom convention.  Google and Apple style guide chastise the use of the `_` prefix, so in your applications do not use this `_` convention.  For this workbook to make things clear, we will use a prefix of `_` for private variables and a postfix of `$` for protected variables"
   ]
  },
  {
   "cell_type": "code",
   "execution_count": 20,
   "id": "091b369c",
   "metadata": {},
   "outputs": [
    {
     "name": "stderr",
     "output_type": "stream",
     "text": [
      "29:10 - Property 'id' does not exist on type 'Car'.\n"
     ]
    }
   ],
   "source": [
    "class Car {\n",
    "\n",
    "    constructor(private readonly _id: number, \n",
    "                 public make: string, \n",
    "                 public model: string,\n",
    "                 public year: number,\n",
    "                 public nickname?: string\n",
    "                ){}\n",
    "    \n",
    "    drive(miles: number):void {\n",
    "        console.log('You drove so many miles', miles, 'With these gas prices thats wild')\n",
    "    }\n",
    "    \n",
    "    \n",
    "     printInfo():void {\n",
    "        console.log(`The car id is ${this._id} & it is a`, // the '_' in front of id doesn't do anything besides show that this is a private variable\n",
    "                            this.year,\n",
    "                            this.make,\n",
    "                            this.model,\n",
    "                            this.nickname ? 'that is called ' + this.nickname : 'that has no nickname :( sorry')\n",
    "                            \n",
    "    \n",
    "    }\n",
    "    \n",
    "}\n",
    "\n",
    "let delorean = new Car(3, 'DeLorean', 'DMC-12', 1981, 'cool car')\n",
    "delorean.printInfo()\n",
    "delorean.id"
   ]
  },
  {
   "cell_type": "code",
   "execution_count": 21,
   "id": "ad5cad09-a711-4a1c-a114-71749b713079",
   "metadata": {},
   "outputs": [],
   "source": [
    "\n",
    "\n",
    "// in Python we used the '__' double underscore for Private variables, '_' single undderscore for Protected and nothing for Public. \n",
    "// we could still access them, so more of a suggestion. "
   ]
  },
  {
   "cell_type": "markdown",
   "id": "d0037ac7",
   "metadata": {},
   "source": [
    "<a id=\"getter\"></a>\n",
    "\n",
    "### Getters"
   ]
  },
  {
   "cell_type": "markdown",
   "id": "47f20072",
   "metadata": {},
   "source": [
    "We can access varaibles with a getter.  This helps us encapsulate the property while still allowing view access.  Using getters and setters in your classes is good practice and should always be employed in your classes."
   ]
  },
  {
   "cell_type": "markdown",
   "id": "2a5bc985",
   "metadata": {},
   "source": [
    "In the following example we decided since a car's make and model can not be changed once it is made we will make those properties private, but the nickname of a car can be changed by anyone at anytime so we will make that public."
   ]
  },
  {
   "cell_type": "code",
   "execution_count": 23,
   "id": "10c24e3b",
   "metadata": {},
   "outputs": [],
   "source": [
    "class Car {\n",
    "    \n",
    "    constructor(private _make:string, public year: number, private _model?: string){}\n",
    "    \n",
    "//     since make & model are private we can make getters in order to get the data \n",
    "    // notice the getter is the same name as the variable\n",
    "    get make():string {\n",
    "        return this._make\n",
    "    }\n",
    "    \n",
    "    // defining how we serve our data. Protecting and making rules on how ppl access the data. \n",
    "    get model(): string {\n",
    "        // does it exist, is there a value. Difference between truesy & falsy values. Whatt makes it true is if has value \n",
    "        if (this._model){\n",
    "            return this._model\n",
    "        } else {\n",
    "            return \"We don't have model data\"\n",
    "            \n",
    "        }\n",
    "    \n",
    "    }\n",
    "\n",
    "}"
   ]
  },
  {
   "cell_type": "code",
   "execution_count": 24,
   "id": "16c7c940",
   "metadata": {
    "scrolled": true
   },
   "outputs": [],
   "source": [
    "let knightRider = new Car('Pontiac', 1988, 'Grand Prix')"
   ]
  },
  {
   "cell_type": "code",
   "execution_count": 25,
   "id": "2c58c622",
   "metadata": {
    "scrolled": true
   },
   "outputs": [
    {
     "name": "stdout",
     "output_type": "stream",
     "text": [
      "Grand Prix\n"
     ]
    }
   ],
   "source": [
    "knightRider.model //trying to access an attribute but im actually calling upon the getter"
   ]
  },
  {
   "cell_type": "markdown",
   "id": "8873979c",
   "metadata": {},
   "source": [
    "Public properties can be changed from outside the class"
   ]
  },
  {
   "cell_type": "code",
   "execution_count": 26,
   "id": "5e9636f1",
   "metadata": {},
   "outputs": [
    {
     "name": "stdout",
     "output_type": "stream",
     "text": [
      "\u001b[33m1988\u001b[39m\n"
     ]
    }
   ],
   "source": [
    "knightRider.year"
   ]
  },
  {
   "cell_type": "markdown",
   "id": "9a4c43ba",
   "metadata": {},
   "source": [
    "Private Properties can not be accessed outside the class"
   ]
  },
  {
   "cell_type": "code",
   "execution_count": null,
   "id": "769e18e3",
   "metadata": {
    "scrolled": true
   },
   "outputs": [],
   "source": [
    "knightRider._model //cant do this!"
   ]
  },
  {
   "cell_type": "markdown",
   "id": "e4123377",
   "metadata": {},
   "source": [
    "Public getters can make private variables viewable outside the class"
   ]
  },
  {
   "cell_type": "code",
   "execution_count": 28,
   "id": "0ce0b402",
   "metadata": {},
   "outputs": [
    {
     "name": "stdout",
     "output_type": "stream",
     "text": [
      "Pontiac\n"
     ]
    }
   ],
   "source": [
    "knightRider.make"
   ]
  },
  {
   "cell_type": "code",
   "execution_count": 29,
   "id": "f8f0b392",
   "metadata": {},
   "outputs": [
    {
     "name": "stdout",
     "output_type": "stream",
     "text": [
      "Grand Prix\n"
     ]
    }
   ],
   "source": [
    "knightRider.model"
   ]
  },
  {
   "cell_type": "markdown",
   "id": "75bc6bd7",
   "metadata": {},
   "source": [
    "<a id=\"setter\"></a>\n",
    "\n",
    "### Setters"
   ]
  },
  {
   "cell_type": "markdown",
   "id": "393c15cf",
   "metadata": {},
   "source": [
    "If a property is changed we often want to check or process the data that the property is getting changed to.  This makes setters very important.  They will allow us to define what happens when we change our variable.\n",
    "\n",
    "We can even create getters for things that are not properties.\n",
    "\n",
    "<strong>Note: </strong> Do not try and set a return type on a setter"
   ]
  },
  {
   "cell_type": "code",
   "execution_count": 39,
   "id": "60caa0fe",
   "metadata": {},
   "outputs": [],
   "source": [
    "class Car {\n",
    "    \n",
    "    constructor(private _make:string, public year: number, private _model?: string){}\n",
    "    \n",
    "//     since make & model are private we can make getters in order to get the data \n",
    "    // notice the getter is the same name as the variable\n",
    "    get make():string {\n",
    "        return this._make\n",
    "    }\n",
    "    \n",
    "    // defining how we serve our data. Protecting and making rules on how ppl access the data. \n",
    "    get model(): string {\n",
    "        // does it exist, is there a value. Difference between truesy & falsy values. Whatt makes it true is if has value \n",
    "        if (this._model){\n",
    "            return this._model\n",
    "        } else {\n",
    "            return \"We don't have model data\"\n",
    "            \n",
    "        }\n",
    "    \n",
    "    }\n",
    "    \n",
    "    set make(newMake: string){\n",
    "        this._make = newMake\n",
    "    }\n",
    "    \n",
    "//     we can add setters to define how we set/change the data\n",
    "    set model(newModel: string){\n",
    "        if (newModel.toLowerCase() === 'pinto') {\n",
    "            this._model = \"Wrecked\"\n",
    "        } else {\n",
    "            this._model = newModel\n",
    "        }\n",
    "    }\n",
    "\n",
    "}\n",
    "\n",
    "let knightRider2 = new Car('Pontiac', 1988)"
   ]
  },
  {
   "cell_type": "markdown",
   "id": "d02db854",
   "metadata": {},
   "source": [
    "Setters can allow us to change a private variable, while still letting the class decide how to properly enact the change."
   ]
  },
  {
   "cell_type": "code",
   "execution_count": 41,
   "id": "39f66dc5",
   "metadata": {},
   "outputs": [
    {
     "name": "stdout",
     "output_type": "stream",
     "text": [
      "Car { _make: \u001b[32m'BMW'\u001b[39m, year: \u001b[33m1988\u001b[39m, _model: \u001b[32m'Wrecked'\u001b[39m }\n"
     ]
    }
   ],
   "source": [
    "knightRider2.make = \"BMW\"\n",
    "knightRider2.model = \"Pinto\"\n",
    "console.log(knightRider2)"
   ]
  },
  {
   "cell_type": "markdown",
   "id": "380eb8d3",
   "metadata": {},
   "source": [
    "<a id=\"idxsign\"></a>\n",
    "\n",
    "### Index Signatures"
   ]
  },
  {
   "cell_type": "markdown",
   "id": "a6a97c72",
   "metadata": {},
   "source": [
    "Index Signatures allow us to dynamically (after creation) change the properties of our class.  This can be done in JS but in TS you get an error\n",
    "\n",
    "syntax:\n",
    "```\n",
    "[placeHolder:DatatypeOfProperty]:DataTypeContainedInProperty\n",
    "```"
   ]
  },
  {
   "cell_type": "code",
   "execution_count": 53,
   "id": "02387f63",
   "metadata": {},
   "outputs": [],
   "source": [
    "//How we do this in JS\n",
    "\n",
    "class PokemonRatings {\n",
    "\n",
    "//     index signatures allow us to add key/value pairs dynamically\n",
    "    [pokemonAttribute: string] : string | number | boolean\n",
    "}\n"
   ]
  },
  {
   "cell_type": "code",
   "execution_count": 44,
   "id": "c906038f",
   "metadata": {},
   "outputs": [],
   "source": [
    "// instantiate my class\n",
    "let myRating = new PokemonRatings()"
   ]
  },
  {
   "cell_type": "code",
   "execution_count": 46,
   "id": "409f4a50",
   "metadata": {
    "scrolled": true
   },
   "outputs": [
    {
     "name": "stdout",
     "output_type": "stream",
     "text": [
      "\u001b[33m1\u001b[39m\n"
     ]
    }
   ],
   "source": [
    "myRating['Arceus'] = 1"
   ]
  },
  {
   "cell_type": "code",
   "execution_count": 48,
   "id": "c8239c24",
   "metadata": {},
   "outputs": [
    {
     "name": "stdout",
     "output_type": "stream",
     "text": [
      "PokemonRatings { Arceus: \u001b[33m1\u001b[39m }\n"
     ]
    }
   ],
   "source": [
    "console.log(myRating)"
   ]
  },
  {
   "cell_type": "code",
   "execution_count": 51,
   "id": "48242edf",
   "metadata": {},
   "outputs": [
    {
     "name": "stdout",
     "output_type": "stream",
     "text": [
      "PokemonRatings { Arceus: \u001b[33m1\u001b[39m, Charmander: \u001b[32m'fire type'\u001b[39m }\n"
     ]
    }
   ],
   "source": [
    "myRating['Charmander'] = 'fire type'\n",
    "console.log(myRating)"
   ]
  },
  {
   "cell_type": "markdown",
   "id": "a7b91fa6",
   "metadata": {},
   "source": [
    "<a id=\"static\"></a>\n",
    "\n",
    "### Static"
   ]
  },
  {
   "cell_type": "markdown",
   "id": "cdd0515f",
   "metadata": {},
   "source": [
    "The `static` keyword denotes that the property maintains its value across all instances, and also must be used without an instance.\n",
    "\n",
    "To access a Static Property we call its by class name. `ClassName.staticProperty`"
   ]
  },
  {
   "cell_type": "code",
   "execution_count": 64,
   "id": "90933070",
   "metadata": {},
   "outputs": [],
   "source": [
    "// static essentially means attributes & methods belong to the Class as a whole not necessarily individual objects\n",
    "\n",
    "class Counter {\n",
    "    \n",
    "    // definign this as a public attribute but also static\n",
    "    public static count: number = 0\n",
    "    \n",
    "    increaseCount():void {\n",
    "//         static attributes don't use the 'this' keyword but rather the class name\n",
    "        Counter.count ++ \n",
    "    }\n",
    "    \n",
    "//     static method that belongs to the whole class not individual objects\n",
    "    static showCount():void {\n",
    "        console.log(\"The count is, \", Counter.count)\n",
    "    }\n",
    "    \n",
    "    showMyCount():void {\n",
    "        console.log(\"This objects count is, \", Counter.count)\n",
    "    }\n",
    "\n",
    "}"
   ]
  },
  {
   "cell_type": "markdown",
   "id": "25e6168b",
   "metadata": {},
   "source": [
    "#### Accessing"
   ]
  },
  {
   "cell_type": "code",
   "execution_count": 56,
   "id": "4c52eb6b",
   "metadata": {},
   "outputs": [
    {
     "name": "stdout",
     "output_type": "stream",
     "text": [
      "\u001b[33m0\u001b[39m\n"
     ]
    }
   ],
   "source": [
    "console.log(Counter.count)"
   ]
  },
  {
   "cell_type": "code",
   "execution_count": 65,
   "id": "0d9c9cd4",
   "metadata": {},
   "outputs": [],
   "source": [
    "let counter1 = new Counter()"
   ]
  },
  {
   "cell_type": "code",
   "execution_count": 58,
   "id": "9b51dacc",
   "metadata": {},
   "outputs": [
    {
     "name": "stderr",
     "output_type": "stream",
     "text": [
      "2:10 - Property 'count' does not exist on type 'Counter'. Did you mean to access the static member 'Counter.count' instead?\n"
     ]
    }
   ],
   "source": [
    " // Can not Access\n",
    "counter1.count //im trying to access an attribute on a specific object. "
   ]
  },
  {
   "cell_type": "markdown",
   "id": "a6236370",
   "metadata": {},
   "source": [
    "All Members of the Counter class share the same count property!"
   ]
  },
  {
   "cell_type": "code",
   "execution_count": 66,
   "id": "1531cec3",
   "metadata": {},
   "outputs": [
    {
     "name": "stdout",
     "output_type": "stream",
     "text": [
      "The count is,  \u001b[33m1\u001b[39m\n",
      "The count is,  \u001b[33m2\u001b[39m\n"
     ]
    }
   ],
   "source": [
    "counter1.increaseCount()\n",
    "Counter.showCount()\n",
    "\n",
    "// share the count attribute with each other. It is not seperate.\n",
    "let counter2 = new Counter()\n",
    "counter2.increaseCount()\n",
    "Counter.showCount()"
   ]
  },
  {
   "cell_type": "code",
   "execution_count": 61,
   "id": "2471544f",
   "metadata": {},
   "outputs": [
    {
     "name": "stderr",
     "output_type": "stream",
     "text": [
      "2:10 - Property 'showCount' does not exist on type 'Counter'. Did you mean to access the static member 'Counter.showCount' instead?\n"
     ]
    }
   ],
   "source": [
    "//Nope\n",
    "counter2.showCount() //not a methhod on a specific object but a method on the whole class."
   ]
  },
  {
   "cell_type": "code",
   "execution_count": null,
   "id": "da45fa4c",
   "metadata": {},
   "outputs": [],
   "source": [
    "// In Python we use the @staticmethod to do this, @staticproperty"
   ]
  },
  {
   "cell_type": "code",
   "execution_count": 67,
   "id": "463ae079-6a50-4277-8b6a-667b9d726d79",
   "metadata": {},
   "outputs": [
    {
     "name": "stdout",
     "output_type": "stream",
     "text": [
      "This objects count is,  \u001b[33m3\u001b[39m\n"
     ]
    }
   ],
   "source": [
    "counter2.increaseCount()\n",
    "counter2.showMyCount()"
   ]
  },
  {
   "cell_type": "code",
   "execution_count": 68,
   "id": "32f89210-4286-417d-abec-6d1b05b91b0a",
   "metadata": {},
   "outputs": [
    {
     "name": "stdout",
     "output_type": "stream",
     "text": [
      "This objects count is,  \u001b[33m3\u001b[39m\n"
     ]
    }
   ],
   "source": [
    "counter1.showMyCount()"
   ]
  },
  {
   "cell_type": "code",
   "execution_count": 69,
   "id": "14cef89d-7df9-49fd-80f1-9e2bc5110da4",
   "metadata": {},
   "outputs": [
    {
     "name": "stdout",
     "output_type": "stream",
     "text": [
      "This objects count is,  \u001b[33m3\u001b[39m\n"
     ]
    }
   ],
   "source": [
    "let counter3 = new Counter()\n",
    "counter3.showMyCount()"
   ]
  },
  {
   "cell_type": "markdown",
   "id": "a0a65a71",
   "metadata": {},
   "source": [
    "<a id=\"inherit\"></a>\n",
    "\n",
    "## Inheritance"
   ]
  },
  {
   "cell_type": "markdown",
   "id": "f9bafbb5",
   "metadata": {},
   "source": [
    "We are going to make a Duck class then define children classes to represent different kinds of ducks.  \n",
    "\n",
    "Here we will use the `protected` access modifier for the first time.  Remember protected means that the child class can access the property, while if it was made private it would not be able to be accessed in the child class\n",
    "\n",
    "<b>Note: </b>In python a class can inherit from multiple classes.  This is not possible in JavaScript/TypeScript.  You can only extend one class in JS/TS this is to prevent the so-called diamond problem (when two extended classes have the same base class).  This is fine and normal in most languages because JS also provides Interfaces and a class can implement many Interfaces (more on interfaces later)"
   ]
  },
  {
   "cell_type": "code",
   "execution_count": 76,
   "id": "37fc921f",
   "metadata": {},
   "outputs": [
    {
     "name": "stdout",
     "output_type": "stream",
     "text": [
      "Duck\n",
      "Generic Duck noises\n",
      "paddes with two little feet like a cute lil duck\n",
      "\u001b[33m32\u001b[39m\n"
     ]
    }
   ],
   "source": [
    "// Original Class\n",
    "class Duck {\n",
    "\n",
    "    public static className: string = \"Duck\"\n",
    "    \n",
    "    constructor(protected age$: number){} //age is protected meaning we can only access it in THIS class and classes that inherit THIS class\n",
    "    \n",
    "    get age(): number {\n",
    "        return this.age$\n",
    "    }\n",
    "    \n",
    "    public quack():void{\n",
    "        console.log(\"Generic Duck noises\")\n",
    "    }\n",
    "    \n",
    "    public swim():void{\n",
    "        console.log(\"paddes with two little feet like a cute lil duck\")\n",
    "    }\n",
    "\n",
    "}\n",
    "\n",
    "console.log(Duck.className)\n",
    "let daffy = new Duck(32)\n",
    "daffy.quack()\n",
    "daffy.swim()\n",
    "daffy.age // because this is a getter we don't need parenthesis to call this method."
   ]
  },
  {
   "cell_type": "markdown",
   "id": "4fc302a5",
   "metadata": {},
   "source": [
    "#### In the Child Class"
   ]
  },
  {
   "cell_type": "markdown",
   "id": "f8d79a9b",
   "metadata": {},
   "source": [
    "To inherit from a class in JS/TS we use the extends keyword\n",
    "\n",
    "<b>Note </b> When adding parameters that are part of the parent class we do not add access modifiers"
   ]
  },
  {
   "cell_type": "code",
   "execution_count": 81,
   "id": "b52cd841",
   "metadata": {},
   "outputs": [
    {
     "name": "stdout",
     "output_type": "stream",
     "text": [
      "Generic Duck noises\n",
      "paddes with two little feet like a cute lil duck\n"
     ]
    }
   ],
   "source": [
    "// in python we inherited by putting class in the parenthesis class MallardDuck(Duck):\n",
    "// in JS/TS we use the extends keyword\n",
    "\n",
    "// MallardDuck is child class\n",
    "class MallardDuck extends Duck {\n",
    "    \n",
    "    public static className = 'Mallard Duck'\n",
    "    \n",
    "    constructor(public color: string, age$: number){\n",
    "        super(age$)\n",
    "    }\n",
    "}\n",
    "\n",
    "let mallard = new MallardDuck(\"brown\", 5)\n",
    "mallard.age\n",
    "mallard.quack()\n",
    "mallard.swim()"
   ]
  },
  {
   "cell_type": "code",
   "execution_count": 83,
   "id": "01b48029",
   "metadata": {
    "scrolled": true
   },
   "outputs": [
    {
     "name": "stderr",
     "output_type": "stream",
     "text": [
      "3:7 - Property 'color' does not exist on type 'Duck'.\n"
     ]
    }
   ],
   "source": [
    "// Duck's don't have a color\n",
    "mallard.color //we extended the original class by adding color attribute to MallardDuck\n",
    "daffy.color "
   ]
  },
  {
   "cell_type": "markdown",
   "id": "8a84af9b",
   "metadata": {},
   "source": [
    "<a id=\"methover\"></a>\n",
    "\n",
    "### Method Overrides"
   ]
  },
  {
   "cell_type": "markdown",
   "id": "c10d5cbe",
   "metadata": {},
   "source": [
    "Now we notice that our mallard makes a generic animal sounds instead of the mallard's quack sound, so we should implement a different way to quack that is specific to mallards, we can do this by overriding the parent class method"
   ]
  },
  {
   "cell_type": "markdown",
   "id": "83b7556a",
   "metadata": {},
   "source": [
    "##### Implicit Overrides"
   ]
  },
  {
   "cell_type": "markdown",
   "id": "6ab1bbb6",
   "metadata": {},
   "source": [
    "If you create a method in a child class with the same name as a method in the parent class, the child class will use the method definition from the child class, this is called a <b>method override</b>  This is done implicitly by the computer.  This is now considered bad practice and it is recommended to always use the `override` keyword (more on that next)"
   ]
  },
  {
   "cell_type": "code",
   "execution_count": 103,
   "id": "767a531f",
   "metadata": {},
   "outputs": [
    {
     "name": "stdout",
     "output_type": "stream",
     "text": [
      "This is a Mallard quack. Quack Quack\n",
      "Fly high little bird\n"
     ]
    }
   ],
   "source": [
    "// Original/Parent Class\n",
    "class Duck {\n",
    "\n",
    "    public static className: string = \"Duck\"\n",
    "    \n",
    "    constructor(protected age$: number){} //age is protected meaning we can only access it in THIS class and classes that inherit THIS class\n",
    "    \n",
    "    get age(): number {\n",
    "        return this.age$\n",
    "    }\n",
    "    \n",
    "    public quack():void{\n",
    "        console.log(\"Generic Duck noises\")\n",
    "    }\n",
    "    \n",
    "    public swim():void{\n",
    "        console.log(\"paddes with two little feet like a cute lil duck\")\n",
    "    }\n",
    "\n",
    "}\n",
    "\n",
    "\n",
    "// MallardDuck is child class\n",
    "class MallardDuck extends Duck {\n",
    "    \n",
    "    public static className = 'Mallard Duck'\n",
    "    \n",
    "    constructor(public color: string, age$: number){\n",
    "        super(age$)\n",
    "    }\n",
    "    \n",
    "    \n",
    "    // using override keyword we are overriding the original quack() method\n",
    "    public override quack():void {\n",
    "        console.log(\"This is a Mallard quack. Quack Quack\")\n",
    "    }\n",
    "    \n",
    "    public fly():void {\n",
    "        console.log(\"Fly high little bird\")\n",
    "    }\n",
    "}\n",
    "\n",
    "\n",
    "let mallard2 = new MallardDuck(\"brown & white\", 5)\n",
    "mallard2.quack()\n",
    "mallard2.fly()\n",
    "// mallard2.age$"
   ]
  },
  {
   "cell_type": "markdown",
   "id": "55afc76b",
   "metadata": {},
   "source": [
    "<a id=\"polym\"></a>\n",
    "\n",
    "### Polymorphism"
   ]
  },
  {
   "cell_type": "markdown",
   "id": "c2880118",
   "metadata": {},
   "source": [
    "Polymorphism means having many forms.  What we have learned in TS so far is that you always need to know the datatype of your variables.  And if you say make an array you have to define what is in that array.  \n",
    "\n",
    "What polymorphism says is if one class (say MallardDuck) inherits from a class (say Duck) then every MallardDuck is a Duck. Also, all other Children of the Duck Class (say RedHeadedDuck) are also Ducks; and not to forget that Ducks are also Ducks.  This means we can build an Array&lt;Ducks&gt; and include Ducks, RedHeadedDucks, and Mallard Ducks.\n",
    "    \n",
    "In OOP we often talk about the <b>Open-Closed Principal</b> The open–closed principle states \"software entities (classes, modules, functions, etc.) should be open for extension, but closed for modification\";\n",
    "    \n",
    "Polymorphism is a key way we can help achieve this goal"
   ]
  },
  {
   "cell_type": "markdown",
   "id": "df113605",
   "metadata": {},
   "source": [
    "<b>Lets </b> make another Type of Duck the ReadHeadedDuck"
   ]
  },
  {
   "cell_type": "code",
   "execution_count": 91,
   "id": "eaf6cee9",
   "metadata": {},
   "outputs": [],
   "source": [
    "class RedHeadedDuck extends Duck {\n",
    "\n",
    "    public static className = 'Red Headed Duck'\n",
    "    \n",
    "    constructor(public color: string, age$: number){\n",
    "        \n",
    "        super(age$) // saamae this as the super().__init__() in python\n",
    "    }\n",
    "    \n",
    "    // can also override our getters. \n",
    "    get age(): number {\n",
    "        return this.age$ - 1\n",
    "    }\n",
    "    \n",
    "    public override quack(): void {\n",
    "        console.log(\"Now this is how a Red HEaded Duck quacks\")\n",
    "    }\n",
    "}"
   ]
  },
  {
   "cell_type": "markdown",
   "id": "72aaa5c0",
   "metadata": {},
   "source": [
    "Let’s make an array of Ducks.  Since all Duck Types inherit from Duck we can declare the array and array of Ducks."
   ]
  },
  {
   "cell_type": "code",
   "execution_count": 95,
   "id": "e6c036a2",
   "metadata": {},
   "outputs": [],
   "source": [
    "// we can use classes as Types \n",
    "// and since all these Duck classes inherit from Duck they should all be Duck Types\n",
    "\n",
    "let duckArray: Duck[] = [\n",
    "    new Duck(23),\n",
    "    new MallardDuck('brown & white', 10),\n",
    "    new RedHeadedDuck('red with spots', 30)\n",
    "]"
   ]
  },
  {
   "cell_type": "markdown",
   "id": "c0ee1f5b",
   "metadata": {},
   "source": [
    "Now Lets watch Polymorphism in action\n",
    "\n",
    "This is really cool, because all Ducks are implementing the same behaviors (methods) we can invoke them and get the results from each individual class."
   ]
  },
  {
   "cell_type": "code",
   "execution_count": 104,
   "id": "1062c0a7",
   "metadata": {
    "scrolled": true
   },
   "outputs": [
    {
     "name": "stdout",
     "output_type": "stream",
     "text": [
      "\u001b[33m23\u001b[39m\n",
      "Generic Duck noises\n",
      "paddes with two little feet like a cute lil duck\n",
      "\u001b[33m10\u001b[39m\n",
      "This is a Mallard quack. Quack Quack\n",
      "paddes with two little feet like a cute lil duck\n",
      "\u001b[33m29\u001b[39m\n",
      "Now this is how a Red HEaded Duck quacks\n",
      "paddes with two little feet like a cute lil duck\n"
     ]
    }
   ],
   "source": [
    "// loop through my duck array and call upon each method\n",
    "\n",
    "// of keyword gives us value\n",
    "for (let duck of duckArray) {\n",
    "    console.log(duck.age)\n",
    "    duck.quack()\n",
    "    duck.swim()\n",
    "    // duck.fly()\n",
    "}"
   ]
  },
  {
   "cell_type": "markdown",
   "id": "1af58e19",
   "metadata": {},
   "source": [
    "<a id=\"dp\"></a>\n",
    "\n",
    "## OOP Design Patterns"
   ]
  },
  {
   "cell_type": "markdown",
   "id": "3be2806a",
   "metadata": {},
   "source": [
    "There are alot of ways to design systems with classes and Abstract classes and interfaces (more of these last two things coming up)\n",
    "\n",
    "The way you connect your Classes/Interface/Abstract Class make up your Design Pattern.  We are going to walk you through a good OOP design pattern in the next few sections"
   ]
  },
  {
   "cell_type": "markdown",
   "id": "d539b702",
   "metadata": {},
   "source": [
    "<a id=\"abs\"></a>\n",
    "\n",
    "## Abstract Classes"
   ]
  },
  {
   "cell_type": "markdown",
   "id": "8599a057",
   "metadata": {},
   "source": [
    "Our `Duck` Class now has a problem.  We shouldn't be able to create a plain duck.  All Ducks in the world are some variation on the Duck class, but a plain generic Duck should never exist.  This means we shouldn't be able to make a new duck\n",
    "\n",
    "`let duck = Duck(23)` Should not be allowed because this doesn't make logical sense.\n",
    "\n",
    "Don't fear because we have a solution for this.  We will use an `Abstract Class`  An Abstract Class is a class typically without method implementations, or implementations that function the same for all children classes.  In an Abstract class we merely define that a method should exist and that the children classes should define their own implantation..\n",
    "\n",
    "<b>Note: </b> All Abstract methods have a body even if it is empty"
   ]
  },
  {
   "cell_type": "code",
   "execution_count": 117,
   "id": "9c8f03f6",
   "metadata": {},
   "outputs": [],
   "source": [
    "// Abstract classes are solely there to create other classes but never objects\n",
    "\n",
    "// abstract classes essentially build a contract that other classes must adhere to\n",
    "abstract class Duck {\n",
    "\n",
    "    constructor(protected age$: number, public color: string){}\n",
    "    get age():number { return this.age$ }\n",
    "    quack(){} //have nothing inside them aka do nothing. Just saying every class that extends duck NEEDS to have quack() and swim() method\n",
    "    swim(){}\n",
    "}"
   ]
  },
  {
   "cell_type": "code",
   "execution_count": 106,
   "id": "4340cc8d",
   "metadata": {},
   "outputs": [
    {
     "name": "stderr",
     "output_type": "stream",
     "text": [
      "1:13 - Cannot create an instance of an abstract class.\n"
     ]
    }
   ],
   "source": [
    "let daffy = new Duck(32)  //Error"
   ]
  },
  {
   "cell_type": "code",
   "execution_count": 118,
   "id": "2f1520ca",
   "metadata": {},
   "outputs": [],
   "source": [
    "class MallardDuck extends Duck {\n",
    "    \n",
    "    // constructor to JS/TS is __init__ to Python\n",
    "    constructor(public color: string, age$: number){\n",
    "        super(age$, color)\n",
    "    }\n",
    "    \n",
    "    get age():number{ return this.age$ + 5 }\n",
    "    \n",
    "    \n",
    "    quack(): void {\n",
    "        console.log(\"Mallards can quack all day all night\")\n",
    "    }\n",
    "    \n",
    "    swim(): void {\n",
    "        console.log(\"Swimming like a mallard duck. so majestic, look at it go\")\n",
    "    }\n",
    "    \n",
    "}\n",
    "\n",
    "\n",
    "class MandarinDuck extends Duck {\n",
    "\n",
    "     constructor(public color: string, age$: number){\n",
    "        super(age$, color)\n",
    "    }\n",
    "    \n",
    "    get age():number{ return this.age$ - 3 }\n",
    "    \n",
    "    \n",
    "    quack(): void {\n",
    "        console.log(\"Quack Quack Quack\")\n",
    "    }\n",
    "    \n",
    "    swim(): void {\n",
    "        console.log(\"gracefully it glides throught the water\")\n",
    "    }\n",
    "\n",
    "}\n",
    "\n"
   ]
  },
  {
   "cell_type": "code",
   "execution_count": 119,
   "id": "e955b967",
   "metadata": {},
   "outputs": [],
   "source": [
    "let duckArray: Duck[] = [\n",
    "    new MallardDuck('green', 25),\n",
    "    new MandarinDuck('multi color', 23)\n",
    "]\n"
   ]
  },
  {
   "cell_type": "code",
   "execution_count": 121,
   "id": "8c099077-2604-4258-8521-dd478f81c73b",
   "metadata": {},
   "outputs": [
    {
     "name": "stdout",
     "output_type": "stream",
     "text": [
      "\u001b[33m30\u001b[39m\n",
      "Mallards can quack all day all night\n",
      "Swimming like a mallard duck. so majestic, look at it go\n",
      "green\n",
      "\u001b[33m20\u001b[39m\n",
      "Quack Quack Quack\n",
      "gracefully it glides throught the water\n",
      "multi color\n"
     ]
    }
   ],
   "source": [
    "for (let duck of duckArray) {\n",
    "    // console.log(duck)\n",
    "    console.log(duck.age)\n",
    "    duck.quack()\n",
    "    duck.swim()\n",
    "    console.log(duck.color)\n",
    "}"
   ]
  },
  {
   "cell_type": "markdown",
   "id": "1e0f4f29",
   "metadata": {},
   "source": [
    "<b>What happened with Color?</b>"
   ]
  },
  {
   "cell_type": "markdown",
   "id": "ccf084bf",
   "metadata": {},
   "source": [
    "Lets Try and get the ducks color the same way.\n",
    "\n",
    "when we run the code below we get \n",
    "\n",
    "```Property 'color' does not exist on type 'Duck'.```\n",
    "We know MallardDuck and RedheadedDuck have the property color, but since we are accessing the RedHeaded and Mallard Ducks as a Duck Type (since they are in a array of Ducks not as RedheadedDuck|MallardDuck) we can not use the color property unless it is defined in the parent Abstract class.\n",
    "\n",
    "To fix this we can go back to our base class of `Duck` and add the property `color:string` at the top of our `Duck` class.  Then rerun the cells defining `MallardDuck` and `RedheadedDuck` (to get the new copy of the Duck class) and then rerun the cell below and we should see out expected results"
   ]
  },
  {
   "cell_type": "code",
   "execution_count": null,
   "id": "3e60585d",
   "metadata": {},
   "outputs": [],
   "source": [
    "// ^ see above, we can now access the duck.color attribute because its apart of the original class/contract of Duck"
   ]
  },
  {
   "cell_type": "markdown",
   "id": "3f0f47f7",
   "metadata": {},
   "source": [
    "<a id=\"fly\"></a>\n",
    "\n",
    "#### Flying Ducks"
   ]
  },
  {
   "cell_type": "markdown",
   "id": "25746db9",
   "metadata": {},
   "source": [
    "Let's imagine now we are tasked with adding the ability to fly to our ducks.  This will be simple to add a new method to our Abstract base class `Duck` then implement its specific functionality in the children classes `MallardDuck` and `RedHeaded Duck`.  And for simplicity lets remove the color property"
   ]
  },
  {
   "cell_type": "code",
   "execution_count": 122,
   "id": "5d2dce16",
   "metadata": {},
   "outputs": [],
   "source": [
    "abstract class Duck {\n",
    "\n",
    "    constructor(protected age$: number, public color: string){}\n",
    "    \n",
    "    get age():number { return this.age$ }\n",
    "    quack(){} //have nothing inside them aka do nothing. Just saying every class that extends duck NEEDS to have quack() and swim() method\n",
    "    swim(){}\n",
    "    fly(){}\n",
    "}"
   ]
  },
  {
   "cell_type": "code",
   "execution_count": 123,
   "id": "0c5ed166-32dc-4077-8b47-1de965d6c2ab",
   "metadata": {},
   "outputs": [],
   "source": [
    "class MallardDuck extends Duck {\n",
    "    \n",
    "    // constructor to JS/TS is __init__ to Python\n",
    "    constructor(public color: string, age$: number){\n",
    "        super(age$, color)\n",
    "    }\n",
    "    \n",
    "    get age():number{ return this.age$ + 5 }\n",
    "    \n",
    "    \n",
    "    quack(): void {\n",
    "        console.log(\"Mallards can quack all day all night\")\n",
    "    }\n",
    "    \n",
    "    swim(): void {\n",
    "        console.log(\"Swimming like a mallard duck. so majestic, look at it go\")\n",
    "    }\n",
    "    \n",
    "    fly(): void {\n",
    "        console.log(\"Fly like a Mallard duck\")\n",
    "    }\n",
    "    \n",
    "}\n",
    "\n",
    "\n",
    "class MandarinDuck extends Duck {\n",
    "\n",
    "     constructor(public color: string, age$: number){\n",
    "        super(age$, color)\n",
    "    }\n",
    "    \n",
    "    get age():number{ return this.age$ - 3 }\n",
    "    \n",
    "    \n",
    "    quack(): void {\n",
    "        console.log(\"Quack Quack Quack\")\n",
    "    }\n",
    "    \n",
    "    swim(): void {\n",
    "        console.log(\"gracefully it glides throught the water\")\n",
    "    }\n",
    "    \n",
    "     fly(): void {\n",
    "        console.log(\"Fly like a Mandarin duck. wow thats probably really pretty\")\n",
    "    }\n",
    "\n",
    "}"
   ]
  },
  {
   "cell_type": "markdown",
   "id": "ec2dc503",
   "metadata": {},
   "source": [
    "<a id=\"decoy\"></a>\n",
    "\n",
    "#### Decoy Ducks "
   ]
  },
  {
   "cell_type": "markdown",
   "id": "465f7f65",
   "metadata": {},
   "source": [
    "Okay that was easy enough, but now we are required to make another type of duck, a duck decoy.  Lets Build our `DecoyDuck` class"
   ]
  },
  {
   "cell_type": "code",
   "execution_count": null,
   "id": "5922d89d",
   "metadata": {},
   "outputs": [],
   "source": [
    "class Decoy extends Duck {\n",
    "\n",
    "     constructor(public color: string, age$: number){\n",
    "        super(age$, color)\n",
    "    }\n",
    "    \n",
    "    get age():number{ return this.age$ }\n",
    "    \n",
    "    \n",
    "    quack(): void {\n",
    "        console.log(\"Quack Quack Quack\")\n",
    "    }\n",
    "    \n",
    "    swim(): void {\n",
    "        console.log(\"gracefully it glides throught the water\")\n",
    "    }\n",
    "    \n",
    "     fly(): void {\n",
    "        // decoy ducks can't fly so therefore we shouldn't have this method! \n",
    "    }\n",
    "\n",
    "}"
   ]
  },
  {
   "cell_type": "markdown",
   "id": "b6eed0cc",
   "metadata": {},
   "source": [
    "We Have now come across a problem with using the abstract class to derive all our Duck Types.  A Decoy Duck has no implementation of fly, and thus we should not be implementing a fly method on a decoy duck.\n",
    "\n",
    "Never Fear! Interfaces are here!  An Interface lets you define methods that a class needs to implement.  It can also be used as a type."
   ]
  },
  {
   "cell_type": "markdown",
   "id": "00e0b56e",
   "metadata": {},
   "source": [
    "<a id=\"interfaces\"></a>\n",
    "\n",
    "### Interfaces"
   ]
  },
  {
   "cell_type": "markdown",
   "id": "96edbaa2",
   "metadata": {},
   "source": [
    "Let's redefine our Ducks now using Interfaces. Interfaces also work with Polymorphism. \n",
    "\n",
    "To say a class uses an interface we use the keyword `implements`\n",
    "\n",
    "A class can implement many interfaces, yet extend only one class.\n",
    "\n",
    "An Interface can enforce many different methods/properties, but in this example we will keep it to one method per interface.  The Age property should belong to all ducks still, so we will keep the Duck base class to hold the age, for these examples we will assume the ducks all age exactly the same, so there will be no need to override the getters for age.\n",
    "\n",
    "<i>Interface vs Type</i>\n",
    "\n",
    "Interfaces and Types are extremely similar in TypeScript and for the most part Interfaces and Types can be used interchangeably in TypeScript.\n",
    "\n",
    "for an in-depth discussion on the differences visit https://www.educba.com/typescript-type-vs-interface/\n",
    "\n",
    "\n",
    "<strong>Note </strong> Interfaces do not have method bodies (Abstract classes have method bodies)"
   ]
  },
  {
   "cell_type": "code",
   "execution_count": 124,
   "id": "28054abf",
   "metadata": {},
   "outputs": [],
   "source": [
    "// these are all contracts. \n",
    "\n",
    "abstract class Duck {\n",
    "//     we will only have properties/charactistics on our abstract class\n",
    "    constructor(protected age$: number, public color: string){}\n",
    "    \n",
    "    get age():number {return this.age$}\n",
    "    \n",
    "    // we took out all the below methods and made those seperate interfaces instead that we can use interchangably\n",
    "    // quack(){} \n",
    "    // swim(){}\n",
    "    // fly(){}\n",
    "\n",
    "}\n",
    "\n",
    "// instead of creating methods on our abstract class we will create interfaces \n",
    "\n",
    "interface Quackable {\n",
    "    quack():void\n",
    "}\n",
    "\n",
    "interface Swimmable {\n",
    "    swim():void\n",
    "}\n",
    "\n",
    "interface Flyable {\n",
    "    // wingspan: string\n",
    "    fly():void\n",
    "}"
   ]
  },
  {
   "cell_type": "code",
   "execution_count": 132,
   "id": "f753b5cd-c4ca-4248-a6a8-aece86c871b7",
   "metadata": {},
   "outputs": [],
   "source": [
    "\n",
    "// class can only extend/inherit 1 class but implement MANY interfaces\n",
    "// now our abstract class is a contract only on PROPERTIES\n",
    "// our interfaces are contracts of the classes capabilities/behaviors\n",
    "\n",
    "\n",
    "// MallardDuck signs 4 contracts (Duck, Quackable, Swimmable, Flyable)\n",
    "class MallardDuck extends Duck implements Quackable, Swimmable, Flyable {\n",
    "\n",
    "    constructor(color: string, age$: number){\n",
    "        super(age$, color)\n",
    "    }\n",
    "    \n",
    "    get age():number {\n",
    "        return this.age$ + 2\n",
    "    }\n",
    "    \n",
    "    public quack(): void {\n",
    "        console.log(\"Quack like a Mallard\")\n",
    "    }\n",
    "    \n",
    "     public swim(): void {\n",
    "        console.log(\"Swim like a Mallard\")\n",
    "    }\n",
    "    \n",
    "     public fly(): void {\n",
    "        console.log(\"Fly like a Mallard\")\n",
    "    }\n",
    "}\n",
    "\n",
    "\n",
    "// DecoyDuck only signs 3 (Duck, Quackable, Swimmable)\n",
    "class DecoyDuck extends Duck implements Quackable, Swimmable {\n",
    "\n",
    "    constructor(color: string, age$: number){\n",
    "        super(age$, color)\n",
    "    }\n",
    "    \n",
    "    public quack(): void {\n",
    "        console.log(\"Fake quacking sounds to lure the real ducks\")\n",
    "    }\n",
    "    \n",
    "     public swim(): void {\n",
    "        console.log(\"Doesn't really swim but kinda floats\")\n",
    "    }\n",
    "}\n",
    "\n"
   ]
  },
  {
   "cell_type": "markdown",
   "id": "3e028f5b",
   "metadata": {},
   "source": [
    "We can use the Interface as a type to make an array of all the ducks that Quack"
   ]
  },
  {
   "cell_type": "code",
   "execution_count": 134,
   "id": "4fc873c2",
   "metadata": {},
   "outputs": [
    {
     "name": "stdout",
     "output_type": "stream",
     "text": [
      "\u001b[33m17\u001b[39m\n",
      "green\n",
      "\u001b[33m3\u001b[39m\n",
      "brown\n"
     ]
    }
   ],
   "source": [
    "let mallard = new MallardDuck('green', 15)\n",
    "let decoy = new DecoyDuck('brown', 3)\n",
    "\n",
    "\n",
    "let duckArray: Duck[] = [ mallard, decoy ]\n",
    "   \n",
    "\n",
    "for (let duck of duckArray) {\n",
    "    console.log(duck.age)\n",
    "    console.log(duck.color)\n",
    "}"
   ]
  },
  {
   "cell_type": "code",
   "execution_count": 131,
   "id": "0482495d",
   "metadata": {},
   "outputs": [
    {
     "name": "stderr",
     "output_type": "stream",
     "text": [
      "2:13 - Property 'age$' is protected and only accessible within class 'Duck' and its subclasses.\n"
     ]
    }
   ],
   "source": [
    "let mallardduck = new MallardDuck('brown', 3)\n",
    "mallardduck.age$"
   ]
  },
  {
   "cell_type": "code",
   "execution_count": 136,
   "id": "f6794d21",
   "metadata": {},
   "outputs": [
    {
     "name": "stdout",
     "output_type": "stream",
     "text": [
      "Quack like a Mallard\n",
      "Fake quacking sounds to lure the real ducks\n"
     ]
    }
   ],
   "source": [
    "// we can also use Interfaces as types\n",
    "\n",
    "let quackArray: Quackable[] = [ mallard, decoy ]\n",
    "\n",
    "for (let duck of quackArray) { duck.quack() }"
   ]
  },
  {
   "cell_type": "markdown",
   "id": "4d34a346",
   "metadata": {},
   "source": [
    "<a id=\"ice2\"></a>\n",
    "## In Class Exercise #2"
   ]
  },
  {
   "cell_type": "markdown",
   "id": "17ac5b75",
   "metadata": {},
   "source": [
    "Create a Interface Of MusicMedia that states anything implementing it should be able to `play` and create Classes: CD, Tape, Record to implement your interface\n",
    "\n",
    "To implement play:\n",
    "\n",
    "- CDs will print \"Spins and read with Laser\"\n",
    "- Tapes will print \"Magnetic Tape is read\"\n",
    "- Records will print \"Needle reads grooves\""
   ]
  },
  {
   "cell_type": "code",
   "execution_count": 137,
   "id": "ddab1fa0",
   "metadata": {},
   "outputs": [],
   "source": [
    "//Solution\n",
    "// abstract class MusicMedia {\n",
    "    \n",
    "// }\n",
    "\n",
    "// this is our contract, any class that implements thiss must have a playing() method\n",
    "interface Play {\n",
    "    playing(): void\n",
    "}\n",
    "\n",
    "\n",
    "class CD  implements Play {\n",
    "    public playing(): void {\n",
    "        console.log(\"Spins and read with Laser\")\n",
    "    }\n",
    "}\n",
    "\n",
    "class Tapes implements Play {\n",
    "    public playing(): void {\n",
    "        console.log(\"Magnetic Tape is read\")\n",
    "    }\n",
    "}\n",
    "\n",
    "class Records  implements Play {\n",
    "    public playing(): void {\n",
    "        console.log(\"Needle reads grooves\")\n",
    "    }\n",
    "}"
   ]
  },
  {
   "cell_type": "code",
   "execution_count": 140,
   "id": "e51db412-69f1-48aa-bbdc-3fc6e08f13bb",
   "metadata": {},
   "outputs": [
    {
     "name": "stdout",
     "output_type": "stream",
     "text": [
      "Spins and read with Laser\n",
      "Magnetic Tape is read\n",
      "Needle reads grooves\n"
     ]
    }
   ],
   "source": [
    "let playArray: Play[] = [\n",
    "    new CD(),\n",
    "    new Tapes(),\n",
    "    new Records()\n",
    "]\n",
    "\n",
    "\n",
    "for (let media of playArray) {\n",
    "    media.playing()\n",
    "}"
   ]
  },
  {
   "cell_type": "markdown",
   "id": "f81a9dcd",
   "metadata": {},
   "source": [
    "<a id=\"ptoi\"></a>\n",
    "\n",
    "#### Programming To Interface"
   ]
  },
  {
   "cell_type": "markdown",
   "id": "6349da36",
   "metadata": {},
   "source": [
    "This design can be further improved, but it is a quite flexible design.  What we are learning is the idea of <b>Programming to Interface</b>.  This is the idea could really be stated <b>program to a supertype</b>.  The declared type of the variables should be a supertype, usually an abstract class or interface, so that the objects assiged to those variables can be of any concrete implementation of the supertype, which means the decalring class doesn't have to know about the object types! "
   ]
  },
  {
   "cell_type": "markdown",
   "id": "30151a8c",
   "metadata": {},
   "source": [
    "<a id=\"xi\"></a>\n",
    "\n",
    "### Extending Interfaces"
   ]
  },
  {
   "cell_type": "markdown",
   "id": "dc69d9ac",
   "metadata": {},
   "source": [
    "An interface can also be used alot like a type.  The main difference here is an interface describes the object while a type defines the object.  \n",
    "\n",
    "In TypeScript, We can even extend interfaces with the extends keyword."
   ]
  },
  {
   "cell_type": "code",
   "execution_count": 146,
   "id": "ff623c9d",
   "metadata": {},
   "outputs": [
    {
     "name": "stdout",
     "output_type": "stream",
     "text": [
      "{\n",
      "  firstName: \u001b[32m'Alex'\u001b[39m,\n",
      "  lastName: \u001b[32m'Swiggum'\u001b[39m,\n",
      "  age: \u001b[33m32\u001b[39m,\n",
      "  lastPost: \u001b[35m2024-02-20T20:59:55.218Z\u001b[39m,\n",
      "  posts: [\n",
      "    {\n",
      "      title: \u001b[32m'My New Blog Post'\u001b[39m,\n",
      "      body: \u001b[32m\"All the fun things I'm watching including Avatar\"\u001b[39m\n",
      "    },\n",
      "    {\n",
      "      title: \u001b[32m'Another Blog Post'\u001b[39m,\n",
      "      body: \u001b[32m'The Traitors is one of my favorite shows right now'\u001b[39m\n",
      "    }\n",
      "  ]\n",
      "}\n"
     ]
    }
   ],
   "source": [
    "\n",
    "\n",
    "interface Human {\n",
    "    firstName: string\n",
    "    lastName: string\n",
    "    age: number\n",
    "}\n",
    "\n",
    "interface Post {\n",
    "    title: string,\n",
    "    body: string\n",
    "}\n",
    "\n",
    "\n",
    "// Create a new interface that extends another \n",
    "interface Poster extends Human {\n",
    "    posts: Post[] //object composition in OOP but using interfaces as properties\n",
    "    lastPost: Date\n",
    "}\n",
    "\n",
    "\n",
    "// use Interface to create data\n",
    "let myUser: Poster = {\n",
    "    firstName: \"Alex\",\n",
    "    lastName: \"Swiggum\",\n",
    "    age: 32,\n",
    "    lastPost: new Date(), // instantiate new Date() class\n",
    "    posts: [\n",
    "        {title: \"My New Blog Post\", body: \"All the fun things I'm watching including Avatar\"},\n",
    "        {title: \"Another Blog Post\", body: \"The Traitors is one of my favorite shows right now\"}\n",
    "    ]\n",
    "\n",
    "}\n",
    "\n",
    "console.log(myUser)"
   ]
  },
  {
   "cell_type": "markdown",
   "id": "f9ccb324",
   "metadata": {},
   "source": [
    "<a id=\"gen\"></a>\n",
    "\n",
    "# Generics"
   ]
  },
  {
   "cell_type": "markdown",
   "id": "dc53bdb4",
   "metadata": {},
   "source": [
    "Sometimes we want to allow for all sorts of types for our variables.  We know using an `any` type is bad practice, so how can we accomplish this?  With the use of Generics!"
   ]
  },
  {
   "cell_type": "markdown",
   "id": "8a7ed16e",
   "metadata": {},
   "source": [
    "\n",
    "<a id=\"gf\"></a>\n",
    "### Generic Functions"
   ]
  },
  {
   "cell_type": "markdown",
   "id": "bb7b8e76",
   "metadata": {},
   "source": [
    "To create a generic function we will append the class name with `<` `placeholder to represent any type` `>` and we type the parameters with the placeholder.\n",
    "\n",
    "\n",
    "This is very similar to how this is done in C++.\n",
    "\n",
    "You will often see the placeholder labeled as `T` this stands for Template Class, but you can use anything you want here, but I would keep it to a single letter.\n",
    "\n",
    "When calling the function we can gernally just use our argument like normal, but if for some reason the compiler is unsure of our type we can append  `<` `Generic Type Placeholder` `>` after the name of the function"
   ]
  },
  {
   "cell_type": "code",
   "execution_count": 149,
   "id": "c695dce8",
   "metadata": {},
   "outputs": [],
   "source": [
    "// build a function that takes in a Generic Type. This is very similar to unknown. \n",
    "// The main difference is we are going to tell the function what type we passing when we call\n",
    "\n",
    "                        //T is just a placeholder variable for our type\n",
    "function genericFunction<T>(myGenericVar: T):void {\n",
    "    //still going to do type guarding.\n",
    "    if (typeof myGenericVar === 'string'){\n",
    "        console.log('We got a string here')\n",
    "    } else if (typeof myGenericVar === 'number'){\n",
    "        console.log(`This is the best number ever ${myGenericVar}`)\n",
    "    } else {\n",
    "        console.log(\"This is neither a string or a number\")\n",
    "    }\n",
    "}"
   ]
  },
  {
   "cell_type": "code",
   "execution_count": 151,
   "id": "a025d4f2-f204-4a02-abb9-6dbdaf0cf7ea",
   "metadata": {},
   "outputs": [
    {
     "name": "stdout",
     "output_type": "stream",
     "text": [
      "We got a string here\n",
      "This is the best number ever 123\n"
     ]
    }
   ],
   "source": [
    "//the difference between unknown type and Generic is when we call our function, we pass in the type\n",
    "\n",
    "// explicity naming our type\n",
    "genericFunction<string>(\"A really cool string\") // TS knows exactly what the type is as soon as we call it\n",
    "// implicity naming our type\n",
    "genericFunction(123) // it still automatically knows its a number type"
   ]
  },
  {
   "cell_type": "markdown",
   "id": "80ced257",
   "metadata": {},
   "source": [
    "<a id=\"gc\"></a>\n",
    "\n",
    "### Generic Classes"
   ]
  },
  {
   "cell_type": "markdown",
   "id": "3a63bbfa",
   "metadata": {},
   "source": [
    "To create a generic class we will append the class name with `<` `placeholder to represent any type` `>` and we type the parameters with the placeholder.\n"
   ]
  },
  {
   "cell_type": "code",
   "execution_count": 167,
   "id": "211605b9",
   "metadata": {},
   "outputs": [],
   "source": [
    "class GenericTestClass<T>{\n",
    "    \n",
    "    constructor(private myGenericVar: T){}\n",
    "    \n",
    "    // even though we are using T again, these are two seperate generic types\n",
    "    receiveTType<T>(tParam:T):string{\n",
    "        return typeof tParam //typeof always returns a string(e.g. 'number', 'string')\n",
    "    }\n",
    "    \n",
    "    useGenericVar(){\n",
    "        if (typeof this.myGenericVar === 'string'){\n",
    "            console.log(\"its a string\")\n",
    "        } else if (typeof this.myGenericVar === 'number'){\n",
    "            console.log(\"its a number\")\n",
    "        } else {\n",
    "            console.log(\"its something else\")\n",
    "        }\n",
    "    \n",
    "    }\n",
    "\n",
    "}"
   ]
  },
  {
   "cell_type": "code",
   "execution_count": 164,
   "id": "679e8b57",
   "metadata": {},
   "outputs": [],
   "source": [
    "let gtc1 = new GenericTestClass<string>('Howdy there Rangers')"
   ]
  },
  {
   "cell_type": "code",
   "execution_count": 165,
   "id": "fb6424dd",
   "metadata": {},
   "outputs": [
    {
     "name": "stdout",
     "output_type": "stream",
     "text": [
      "number\n"
     ]
    }
   ],
   "source": [
    "gtc1.receiveTType<number>(123)"
   ]
  },
  {
   "cell_type": "code",
   "execution_count": 166,
   "id": "8f14dd0e",
   "metadata": {},
   "outputs": [
    {
     "name": "stdout",
     "output_type": "stream",
     "text": [
      "its a string\n"
     ]
    }
   ],
   "source": [
    "gtc1.useGenericVar()"
   ]
  },
  {
   "cell_type": "markdown",
   "id": "fd86d562",
   "metadata": {},
   "source": [
    "<a id=\"mg\"></a>\n",
    "\n",
    "### Multiple Generics"
   ]
  },
  {
   "cell_type": "code",
   "execution_count": 176,
   "id": "714e3824",
   "metadata": {},
   "outputs": [],
   "source": [
    "//we can pass in multiple generics seperated by commas\n",
    "class KeyValuePairs<K,V>{\n",
    "\n",
    "    constructor(public key: K, public value: V){}\n",
    "    \n",
    "    \n",
    "    doSomething():void {\n",
    "        console.log(`We have a key: ${this.key} and a value: ${this.value}`)\n",
    "        console.log(`The key is of type: ${typeof this.key} and the value is of type: ${typeof this.value}`)\n",
    "    }\n",
    "}"
   ]
  },
  {
   "cell_type": "code",
   "execution_count": 177,
   "id": "28f991a6-8538-449f-9ab1-6a7f690fc0e5",
   "metadata": {},
   "outputs": [
    {
     "name": "stdout",
     "output_type": "stream",
     "text": [
      "We have a key: Super Cool Key and a value: 1,5,7,9\n",
      "The key is of type: string and the value is of type: object\n"
     ]
    }
   ],
   "source": [
    "let kvp1 = new KeyValuePairs<string, number[]>('Super Cool Key', [1, 5, 7, 9]) //anything thats not a primative type (e.g. boolean, string, number, etc) is an object\n",
    "kvp1.doSomething()"
   ]
  },
  {
   "cell_type": "markdown",
   "id": "773d4a1e",
   "metadata": {},
   "source": [
    "<a id=\"gi\"></a>\n",
    "\n",
    "### Generic Interfaces"
   ]
  },
  {
   "cell_type": "markdown",
   "id": "d53dac1e",
   "metadata": {},
   "source": [
    "The following code will error when ran.  Be sure to use the autocomplete to see the effect of generics."
   ]
  },
  {
   "cell_type": "code",
   "execution_count": 179,
   "id": "8ac7c9df",
   "metadata": {},
   "outputs": [],
   "source": [
    "interface Guest {\n",
    "    roomNumber: number\n",
    "    name: string\n",
    "}\n",
    "\n",
    "\n",
    "interface Room {\n",
    "    noOfBeds: number\n",
    "    price: number\n",
    "}\n",
    "\n",
    "// Querying our database but not sure if we are querying a Guest, or a Room\n",
    "interface Query<T> {\n",
    "    data: T | null, //data is either Guest Type or Room Type\n",
    "    error: string | null\n",
    "}\n",
    "\n",
    "                              //using Query interface as a Type\n",
    "// function getUserOrRoom<T>(): Query<T> {\n",
    "\n",
    "//     //some sort of query logic to get either the User info or Room info\n",
    "    \n",
    "//     // if it were a real query we would get back actual data\n",
    "//     return {data: null, error: null}\n",
    "// }\n",
    "\n",
    "// // Because we are telling it what data type we are passing in, it knows what key/values it has available based on the type\n",
    "// getUserOrRoom<Room>().data.noOfBeds"
   ]
  },
  {
   "cell_type": "markdown",
   "id": "6ebd51fd",
   "metadata": {},
   "source": [
    "<a id=\"gcon\"></a>\n",
    "\n",
    "### Generic Constraints"
   ]
  },
  {
   "cell_type": "markdown",
   "id": "ead2164b",
   "metadata": {},
   "source": [
    "Maybe we want to write a generic function that works with all ducks that extend the `Quacks` ability class we created earlier.  We can do this by saying `T extends Quacks`"
   ]
  },
  {
   "cell_type": "code",
   "execution_count": 180,
   "id": "fce0c6aa",
   "metadata": {},
   "outputs": [
    {
     "name": "stdout",
     "output_type": "stream",
     "text": [
      "\u001b[33m825\u001b[39m\n"
     ]
    }
   ],
   "source": [
    "//having flexibility with the T type but also kinda using a structure already\n",
    "\n",
    "function getHotelInfo<T extends Guest>(guest: T){\n",
    "    console.log(guest.roomNumber)\n",
    "}\n",
    "\n",
    "let guest: Guest = {\n",
    "    name: 'Justin',\n",
    "    roomNumber: 825\n",
    "}\n",
    "getHotelInfo(guest)"
   ]
  },
  {
   "cell_type": "markdown",
   "id": "4506b01e",
   "metadata": {},
   "source": [
    "<a id=\"keyof\"></a>\n",
    "\n",
    "### keyof"
   ]
  },
  {
   "cell_type": "markdown",
   "id": "1ab83d2e",
   "metadata": {},
   "source": [
    "Sometime we need to work with the keys of an object, and if any string is allowed TypeScript could give us and Error (We won't go into these circumstances for brevity), so the `keyof` Operator restricts our options only to valid keys"
   ]
  },
  {
   "cell_type": "code",
   "execution_count": 182,
   "id": "90553670",
   "metadata": {},
   "outputs": [
    {
     "name": "stderr",
     "output_type": "stream",
     "text": [
      "16:1 - Type '76' is not assignable to type 'keyof Item'.\n"
     ]
    }
   ],
   "source": [
    "interface Item {\n",
    "    readonly id: number,\n",
    "    name: string,\n",
    "    price: number\n",
    "}\n",
    "\n",
    "\n",
    "// make a variable aand i can say it needs to be of type that exists on Item\n",
    "let property: keyof Item;\n",
    "\n",
    "\n",
    "property = 'name'\n",
    "property = 'id'\n",
    "property = 'price'\n",
    "\n",
    "property = 76"
   ]
  },
  {
   "cell_type": "markdown",
   "id": "7490bba5",
   "metadata": {},
   "source": [
    "<a id=\"typemap\"></a>\n",
    "\n",
    "### Type Mapping"
   ]
  },
  {
   "cell_type": "markdown",
   "id": "ca595a1a",
   "metadata": {},
   "source": [
    "Imagine we have an interface and all the properties are required.  Now lets imagine we need another version of this interface that allow all the properties to be optional.  We still need our original Required Interface, so we can't edit that and make the properties optional.  We could create a second Interface will all the same properties and make them optional.  This make a ton of work for us to maintain the interface because now we have to add properties in two locations.  The Solution for this is <b>Type Mapping</b>\n",
    "\n",
    "This will take use of two tools we have already learned `keyof` and <b>Type Signatures</b>"
   ]
  },
  {
   "cell_type": "markdown",
   "id": "cdf744f4",
   "metadata": {},
   "source": [
    "<a id=\"optgen\"></a>\n",
    "\n",
    "### Optional&lt;T&gt;"
   ]
  },
  {
   "cell_type": "code",
   "execution_count": 193,
   "id": "42f0b164",
   "metadata": {},
   "outputs": [],
   "source": [
    "\n",
    "interface Garage {\n",
    "    noOfCars: number,\n",
    "    doorType: string,\n",
    "    heated: boolean,\n",
    "    heatedDriveway: boolean\n",
    "}\n",
    "\n",
    "// index signature \n",
    "type OptionalGarage = {\n",
    "    [key in keyof Garage]?: Garage[key] //maaking every key in Garage now optional \n",
    "}\n",
    "\n",
    "\n",
    "let garage: OptionalGarage =  {\n",
    "    doorType: 'automatic'\n",
    "}"
   ]
  },
  {
   "cell_type": "markdown",
   "id": "86d05f8b",
   "metadata": {},
   "source": [
    "<a id=\"rogen\"></a>\n",
    "\n",
    "### ReadOnly&lt;T&gt;"
   ]
  },
  {
   "cell_type": "markdown",
   "id": "8390aa0f",
   "metadata": {},
   "source": [
    "This will only work for Garage types, but with generics we can make this work for any type.  Instead of making it optional this time lets make it Read Only"
   ]
  },
  {
   "cell_type": "code",
   "execution_count": 200,
   "id": "7060c349",
   "metadata": {},
   "outputs": [],
   "source": [
    "// T is like a placeholder/paramater\n",
    "// type ReadOnly<T> = {\n",
    "//     readonly [key in keyof T] : T[key]\n",
    "// }\n",
    "\n",
    "\n",
    "                    //Readonly is a built-in utility type\n",
    "let readonlyGarage: Readonly<Garage> = {\n",
    "    \n",
    "    noOfCars: 2,\n",
    "    doorType: 'automatic',\n",
    "    heated: true,\n",
    "    heatedDriveway: true\n",
    "}\n",
    "\n",
    "\n",
    "// readonlyGarage.noOfCars = 3\n",
    "\n",
    "\n",
    "\n",
    "let partialGarage: Partial<Readonly<Garage>> = {\n",
    "\n",
    "    noOfCars: 1\n",
    "}\n",
    "\n",
    "\n",
    "// partialGarage.noOfCars = 2"
   ]
  },
  {
   "cell_type": "code",
   "execution_count": 208,
   "id": "e3d03d37-0983-4d47-89bc-069731d859d8",
   "metadata": {},
   "outputs": [],
   "source": [
    "\n",
    "interface Order {\n",
    "    orderId: string\n",
    "    customerId: string\n",
    "    productId: string\n",
    "    quantity: number\n",
    "    price: number \n",
    "}\n",
    "\n",
    "\n",
    "\n",
    "\n",
    "//API call to place an order so we need everythning on this interface\n",
    "let myOrder: Order = {\n",
    "    orderId: '38e3k2j48343',\n",
    "    customerId: 'eiekeiekei',\n",
    "    productId: 'eiekeoeleo',\n",
    "    quantity: 10,\n",
    "    price: 2.99\n",
    "\n",
    "}\n",
    "\n",
    "// interface DeleteOrder {\n",
    "//     orderId: string\n",
    "// }\n",
    "\n",
    "//API call to delete an order so we really just need that orderId\n",
    "let deleteOrder: Partial<Order> = {\n",
    "    orderId: '38e3k2j48343'\n",
    "}"
   ]
  },
  {
   "cell_type": "markdown",
   "id": "f3bad45f",
   "metadata": {},
   "source": [
    "<a id=\"util\"></a>\n",
    "\n",
    "### Built in Utility Types"
   ]
  },
  {
   "cell_type": "markdown",
   "id": "1420aa0b",
   "metadata": {},
   "source": [
    "The good news is we don't have to write this code normally because TypeScript provides a whole library of these utility types.\n",
    "\n",
    "[https://www.typescriptlang.org/docs/handbook/utility-types.html](https://www.typescriptlang.org/docs/handbook/utility-types.html)"
   ]
  },
  {
   "cell_type": "markdown",
   "id": "50c06538",
   "metadata": {},
   "source": [
    "<a id=\"hw\"></a>\n",
    "\n",
    "## Homework"
   ]
  },
  {
   "cell_type": "markdown",
   "id": "b45b6bd2",
   "metadata": {},
   "source": [
    "Design a flexible OOP system to describe characters in a RPG game\n",
    "\n",
    "There are 4 Unique Characters which use Different Types of Attacking mechanisms and Defending mechanisms.\n",
    "\n",
    "- Orges - fights with club and defends with shield\n",
    "- Peons - fights with club and defends with shield\n",
    "- Knights - fights with a Sword and defends with Armor\n",
    "- Archer - fights with Bow and Arrow and has only is tunic to protect them\n",
    "\n",
    "- All Characters can collect gold and this will always be the same for every new type of character\n",
    "\n",
    "At the end of this each character should be able to attack and defend and collect gold. \n",
    "\n",
    "EXTRA CREDIT: A character should be able to change their fighting style, say if a knight losing their sword, but finds a club they should be able to change their fighting mechanism to use the club\n",
    "\n",
    "<b>Hint: </b> To complete this assignment you will need multiple classes and interfaces and an Abstract class"
   ]
  },
  {
   "cell_type": "code",
   "execution_count": null,
   "id": "34f42c98",
   "metadata": {},
   "outputs": [],
   "source": [
    "//Solution\n",
    "\n"
   ]
  },
  {
   "cell_type": "code",
   "execution_count": null,
   "id": "cd9097be",
   "metadata": {},
   "outputs": [],
   "source": []
  }
 ],
 "metadata": {
  "kernelspec": {
   "display_name": "TypeScript",
   "language": "typescript",
   "name": "tslab"
  },
  "language_info": {
   "codemirror_mode": {
    "mode": "typescript",
    "name": "javascript",
    "typescript": true
   },
   "file_extension": ".ts",
   "mimetype": "text/typescript",
   "name": "typescript",
   "version": "3.7.2"
  }
 },
 "nbformat": 4,
 "nbformat_minor": 5
}
